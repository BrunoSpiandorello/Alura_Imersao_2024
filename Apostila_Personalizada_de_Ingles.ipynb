{
  "nbformat": 4,
  "nbformat_minor": 0,
  "metadata": {
    "colab": {
      "provenance": [],
      "authorship_tag": "ABX9TyOsY4McXqqb3ki+oWREXOfx",
      "include_colab_link": true
    },
    "kernelspec": {
      "name": "python3",
      "display_name": "Python 3"
    },
    "language_info": {
      "name": "python"
    }
  },
  "cells": [
    {
      "cell_type": "markdown",
      "metadata": {
        "id": "view-in-github",
        "colab_type": "text"
      },
      "source": [
        "<a href=\"https://colab.research.google.com/github/BrunoSpiandorello/Alura_Imersao_2024/blob/main/Apostila_Personalizada_de_Ingles.ipynb\" target=\"_parent\"><img src=\"https://colab.research.google.com/assets/colab-badge.svg\" alt=\"Open In Colab\"/></a>"
      ]
    },
    {
      "cell_type": "markdown",
      "source": [
        "Instalando SDK"
      ],
      "metadata": {
        "id": "dW0Hbn7VHIo5"
      }
    },
    {
      "cell_type": "code",
      "source": [
        "#Instalando o SDK do Google\n",
        "!pip install -q -U google-generativeai"
      ],
      "metadata": {
        "id": "XHM8zkYHDC2f"
      },
      "execution_count": 1,
      "outputs": []
    },
    {
      "cell_type": "markdown",
      "source": [
        "Adicionando API com máscara"
      ],
      "metadata": {
        "id": "NaL0Bm2mHMdI"
      }
    },
    {
      "cell_type": "code",
      "execution_count": 33,
      "metadata": {
        "id": "Mg-UYP56CQAi"
      },
      "outputs": [],
      "source": [
        "#Configurações iniciais\n",
        "import google.generativeai as genai\n",
        "import numpy as np\n",
        "import pandas as pd\n",
        "from google.colab import userdata\n",
        "GOOGLE_API_KEY=userdata.get('mascara_api')\n",
        "genai.configure(api_key=GOOGLE_API_KEY)"
      ]
    },
    {
      "cell_type": "markdown",
      "source": [
        "Definindo parâmetros para execução da AI"
      ],
      "metadata": {
        "id": "t-uF-bbIHmLf"
      }
    },
    {
      "cell_type": "code",
      "source": [
        "generation_config = {\n",
        "  \"candidate_count\": 1,\n",
        "  \"temperature\": 0.5,\n",
        "  \"top_p\": 1,\n",
        "  \"top_k\": 1\n",
        "}"
      ],
      "metadata": {
        "id": "njyysMsMHGka"
      },
      "execution_count": 12,
      "outputs": []
    },
    {
      "cell_type": "markdown",
      "source": [
        "Definindo parâmetros de segurança"
      ],
      "metadata": {
        "id": "Jm9WYgFaHlwN"
      }
    },
    {
      "cell_type": "code",
      "source": [
        "safety_settings={\n",
        "    'HATE': 'BLOCK_MEDIUM_AND_ABOVE',\n",
        "    'HARASSMENT': 'BLOCK_MEDIUM_AND_ABOVE',\n",
        "    'SEXUAL' : 'BLOCK_MEDIUM_AND_ABOVE',\n",
        "    'DANGEROUS' : 'BLOCK_MEDIUM_AND_ABOVE'\n",
        "    }"
      ],
      "metadata": {
        "id": "OJXbPQbqHgT1"
      },
      "execution_count": 4,
      "outputs": []
    },
    {
      "cell_type": "markdown",
      "source": [
        "Definindo versão e modelo a ser utilizado do Gemini AI e inserindo Parâmetros de Execução e de Segurança"
      ],
      "metadata": {
        "id": "GDrzSLQ_Iv5u"
      }
    },
    {
      "cell_type": "code",
      "source": [
        "model = genai.GenerativeModel(model_name='gemini-1.0-pro',\n",
        "                                  generation_config=generation_config,\n",
        "                                  safety_settings=safety_settings,)"
      ],
      "metadata": {
        "id": "oqP436YQH6Nt"
      },
      "execution_count": 5,
      "outputs": []
    },
    {
      "cell_type": "markdown",
      "source": [
        "Criando lista com base nos inputs do usuário"
      ],
      "metadata": {
        "id": "VJb0Xp5PMNDA"
      }
    },
    {
      "cell_type": "code",
      "source": [
        "lista = []\n",
        "\n",
        "print(\"Forneça 5 sentenças em inglês que gostaria de analisar:\")\n",
        "\n",
        "for i in range(5):\n",
        "  valor = input(f\"{i+1}: \")\n",
        "  lista.append(valor)"
      ],
      "metadata": {
        "colab": {
          "base_uri": "https://localhost:8080/"
        },
        "id": "6WkM0hTzMxAY",
        "outputId": "e26b8a3d-24e0-425e-f76c-8748a240eaf9"
      },
      "execution_count": 109,
      "outputs": [
        {
          "name": "stdout",
          "output_type": "stream",
          "text": [
            "Forneça 5 sentenças em inglês que gostaria de analisar:\n",
            "1: I went at the park yesterday with my friends.\n",
            "2: She runned very fast to catch the bus.\n",
            "3: My head is feeling very bad today.\n",
            "4: I am agree with you.\n",
            "5: He put the flowers inside the vase.\n"
          ]
        }
      ]
    },
    {
      "cell_type": "markdown",
      "source": [
        "Formatando frases para incorporar a Prompt\n"
      ],
      "metadata": {
        "id": "1BBjZoI2Pw5L"
      }
    },
    {
      "cell_type": "code",
      "source": [
        "def formatar_lista(lista):\n",
        "  \"\"\"Formata uma lista de frases em um prompt enumerado.\n",
        "\n",
        "  Args:\n",
        "    lista: Uma lista de strings representando as frases.\n",
        "\n",
        "  Returns:\n",
        "    Uma string com as frases formatadas.\n",
        "  \"\"\"\n",
        "  prompt_criado = \"\"\n",
        "  for i, frase in enumerate(lista):\n",
        "    if i == len(lista) - 1:  # Verifica se é a última frase\n",
        "      prompt_criado += f\"Frase {i+1}: {frase}\"\n",
        "    else:\n",
        "      prompt_criado += f\"Frase {i+1}: {frase}\\n\"\n",
        "  return prompt_criado\n",
        "\n",
        "frases_formatadas = formatar_lista(lista)\n",
        "print(frases_formatadas)"
      ],
      "metadata": {
        "colab": {
          "base_uri": "https://localhost:8080/"
        },
        "id": "s0QNSlh9Tpkp",
        "outputId": "2da628ea-4d6c-4475-970e-a70712f8c23e"
      },
      "execution_count": 110,
      "outputs": [
        {
          "output_type": "stream",
          "name": "stdout",
          "text": [
            "Frase 1: I went at the park yesterday with my friends.\n",
            "Frase 2: She runned very fast to catch the bus.\n",
            "Frase 3: My head is feeling very bad today.\n",
            "Frase 4: I am agree with you.\n",
            "Frase 5: He put the flowers inside the vase.\n"
          ]
        }
      ]
    },
    {
      "cell_type": "markdown",
      "source": [
        "Criando prompt"
      ],
      "metadata": {
        "id": "BZ0eFkNdWga6"
      }
    },
    {
      "cell_type": "code",
      "source": [
        "prompt = f\"\"\"Aja como um professor de inglês que faz sua análise na língua portuguesa. Considere as frases abaixo para avaliação:\\n\n",
        "{frases_formatadas}\\n\n",
        "Destaque 3 principais erros ocorridos e agrupe-os. Para estes 3 erros crie 5 exercicios, agrupados por erro, de multiplica escolha com 4 alternativas cada para que exercitem o conhecimento necessário para corrigir os erros apontados. Forneça as respostas ao final de todo os 15 exercicios somente.\"\"\""
      ],
      "metadata": {
        "id": "BB2yf380ShwO"
      },
      "execution_count": 112,
      "outputs": []
    },
    {
      "cell_type": "code",
      "source": [
        "response = model.generate_content(prompt)\n",
        "response.text"
      ],
      "metadata": {
        "colab": {
          "base_uri": "https://localhost:8080/",
          "height": 105
        },
        "id": "X68bEnMpW4S6",
        "outputId": "500e77aa-2c34-4d3d-a105-b85b763aa352"
      },
      "execution_count": 115,
      "outputs": [
        {
          "output_type": "execute_result",
          "data": {
            "text/plain": [
              "'**Principais Erros:**\\n\\n1. **Concordância Verbal**\\n2. **Forma Verbal**\\n3. **Preposição**\\n\\n**Exercícios de Concordância Verbal**\\n\\n1. Qual é a forma correta do verbo \"go\" no tempo passado?\\n(a) I go\\n(b) I went\\n(c) I goed\\n(d) I have gone\\n\\n2. Qual é a forma correta do verbo \"run\" no tempo passado?\\n(a) She run\\n(b) She ran\\n(c) She runned\\n(d) She has run\\n\\n3. Qual é a forma correta do verbo \"feel\" no tempo presente?\\n(a) My head feel bad\\n(b) My head feels bad\\n(c) My head is feeling bad\\n(d) My head has felt bad\\n\\n**Exercícios de Forma Verbal**\\n\\n4. Qual é a forma correta do verbo \"agree\" no tempo presente?\\n(a) I am agree\\n(b) I agree\\n(c) I agreed\\n(d) I have agreed\\n\\n5. Qual é a forma correta do verbo \"put\" no tempo passado?\\n(a) He putted\\n(b) He put\\n(c) He has put\\n(d) He had put\\n\\n**Exercícios de Preposição**\\n\\n6. Qual é a preposição correta para usar com \"park\"?\\n(a) at\\n(b) in\\n(c) on\\n(d) to\\n\\n7. Qual é a preposição correta para usar com \"vase\"?\\n(a) at\\n(b) in\\n(c) on\\n(d) to\\n\\n8. Qual é a preposição correta para usar com \"bus\"?\\n(a) at\\n(b) in\\n(c) on\\n(d) to\\n\\n9. Qual é a preposição correta para usar com \"agree\"?\\n(a) at\\n(b) in\\n(c) on\\n(d) with\\n\\n10. Qual é a preposição correta para usar com \"feeling\"?\\n(a) at\\n(b) in\\n(c) on\\n(d) with\\n\\n**Respostas**\\n\\n1. (b)\\n2. (b)\\n3. (c)\\n4. (b)\\n5. (b)\\n6. (a)\\n7. (b)\\n8. (c)\\n9. (d)\\n10. (d)'"
            ],
            "application/vnd.google.colaboratory.intrinsic+json": {
              "type": "string"
            }
          },
          "metadata": {},
          "execution_count": 115
        }
      ]
    },
    {
      "cell_type": "code",
      "source": [
        "from IPython.display import Markdown, display\n",
        "\n",
        "# Convertendo o texto para Markdown\n",
        "markdown_output = f\"\"\"\n",
        "{response.text}\n",
        "\"\"\"\n",
        "\n",
        "# Exibindo o resultado formatado no Google Colab\n",
        "display(Markdown(markdown_output))"
      ],
      "metadata": {
        "colab": {
          "base_uri": "https://localhost:8080/",
          "height": 714
        },
        "id": "uKmQZ0GOYjtF",
        "outputId": "fdea0a00-857b-4248-a580-3164d5257098"
      },
      "execution_count": 118,
      "outputs": [
        {
          "output_type": "display_data",
          "data": {
            "text/plain": [
              "<IPython.core.display.Markdown object>"
            ],
            "text/markdown": "\n**Erros Principais:**\n\n1. **Concordância Verbal:** Uso incorreto do tempo verbal ou da forma verbal.\n2. **Gramática:** Uso incorreto de estruturas gramaticais.\n3. **Vocabulário:** Uso incorreto de palavras ou expressões.\n\n**Exercícios**\n\n**Concordância Verbal**\n\n1. Qual é a forma verbal correta para completar a frase: \"I _______ at the park yesterday.\"\n(A) went\n(B) go\n(C) goed\n(D) going\n\n2. Qual é a forma verbal correta para completar a frase: \"She _______ very fast to catch the bus.\"\n(A) runned\n(B) ran\n(C) run\n(D) running\n\n3. Qual é a forma verbal correta para completar a frase: \"My head _______ very bad today.\"\n(A) is feeling\n(B) feel\n(C) feels\n(D) feeling\n\n**Gramática**\n\n4. Qual é a forma correta de concordar com o sujeito \"I\" na frase: \"I _______ with you.\"\n(A) am agree\n(B) are agree\n(C) agree\n(D) is agree\n\n5. Qual é a preposição correta para completar a frase: \"He put the flowers _______ the vase.\"\n(A) on\n(B) at\n(C) inside\n(D) in\n\n**Vocabulário**\n\n6. Qual é a palavra correta para substituir \"runned\" na frase: \"She _______ very fast to catch the bus.\"\n(A) run\n(B) ran\n(C) running\n(D) runner\n\n7. Qual é a palavra correta para substituir \"feeling\" na frase: \"My head _______ very bad today.\"\n(A) feel\n(B) feels\n(C) is feeling\n(D) felt\n\n8. Qual é a palavra correta para substituir \"agree\" na frase: \"I _______ with you.\"\n(A) am agree\n(B) agree\n(C) agreed\n(D) is agree\n\n9. Qual é a palavra correta para substituir \"inside\" na frase: \"He put the flowers _______ the vase.\"\n(A) on\n(B) at\n(C) in\n(D) into\n\n10. Qual é a palavra correta para substituir \"vase\" na frase: \"He put the flowers _______ the vase.\"\n(A) pot\n(B) jar\n(C) box\n(D) container\n\n**Respostas**\n\n1. A\n2. B\n3. A\n4. A\n5. C\n6. B\n7. C\n8. A\n9. C\n10. A\n"
          },
          "metadata": {}
        }
      ]
    }
  ]
}