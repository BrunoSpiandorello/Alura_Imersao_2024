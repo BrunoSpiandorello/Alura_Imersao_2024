{
  "nbformat": 4,
  "nbformat_minor": 0,
  "metadata": {
    "colab": {
      "provenance": [],
      "authorship_tag": "ABX9TyOvNPiRAu8plQI2d3I0CKn+",
      "include_colab_link": true
    },
    "kernelspec": {
      "name": "python3",
      "display_name": "Python 3"
    },
    "language_info": {
      "name": "python"
    }
  },
  "cells": [
    {
      "cell_type": "markdown",
      "metadata": {
        "id": "view-in-github",
        "colab_type": "text"
      },
      "source": [
        "<a href=\"https://colab.research.google.com/github/BrunoSpiandorello/Alura_Imersao_2024/blob/main/Apostila_Personalizada_de_Ingles.ipynb\" target=\"_parent\"><img src=\"https://colab.research.google.com/assets/colab-badge.svg\" alt=\"Open In Colab\"/></a>"
      ]
    },
    {
      "cell_type": "markdown",
      "source": [
        "Instalando SDK"
      ],
      "metadata": {
        "id": "dW0Hbn7VHIo5"
      }
    },
    {
      "cell_type": "code",
      "source": [
        "#Instalando o SDK do Google\n",
        "!pip install -q -U google-generativeai"
      ],
      "metadata": {
        "id": "XHM8zkYHDC2f"
      },
      "execution_count": 1,
      "outputs": []
    },
    {
      "cell_type": "markdown",
      "source": [
        "Adicionando API com máscara"
      ],
      "metadata": {
        "id": "NaL0Bm2mHMdI"
      }
    },
    {
      "cell_type": "code",
      "execution_count": 33,
      "metadata": {
        "id": "Mg-UYP56CQAi"
      },
      "outputs": [],
      "source": [
        "#Configurações iniciais\n",
        "import google.generativeai as genai\n",
        "import numpy as np\n",
        "import pandas as pd\n",
        "from google.colab import userdata\n",
        "GOOGLE_API_KEY=userdata.get('mascara_api')\n",
        "genai.configure(api_key=GOOGLE_API_KEY)"
      ]
    },
    {
      "cell_type": "markdown",
      "source": [
        "Definindo parâmetros para execução da AI"
      ],
      "metadata": {
        "id": "t-uF-bbIHmLf"
      }
    },
    {
      "cell_type": "code",
      "source": [
        "generation_config = {\n",
        "  \"candidate_count\": 1,\n",
        "  \"temperature\": 0.5,\n",
        "  \"top_p\": 1,\n",
        "  \"top_k\": 1\n",
        "}"
      ],
      "metadata": {
        "id": "njyysMsMHGka"
      },
      "execution_count": 12,
      "outputs": []
    },
    {
      "cell_type": "markdown",
      "source": [
        "Definindo parâmetros de segurança"
      ],
      "metadata": {
        "id": "Jm9WYgFaHlwN"
      }
    },
    {
      "cell_type": "code",
      "source": [
        "safety_settings={\n",
        "    'HATE': 'BLOCK_MEDIUM_AND_ABOVE',\n",
        "    'HARASSMENT': 'BLOCK_MEDIUM_AND_ABOVE',\n",
        "    'SEXUAL' : 'BLOCK_MEDIUM_AND_ABOVE',\n",
        "    'DANGEROUS' : 'BLOCK_MEDIUM_AND_ABOVE'\n",
        "    }"
      ],
      "metadata": {
        "id": "OJXbPQbqHgT1"
      },
      "execution_count": 4,
      "outputs": []
    },
    {
      "cell_type": "markdown",
      "source": [
        "Definindo versão e modelo a ser utilizado do Gemini AI e inserindo Parâmetros de Execução e de Segurança"
      ],
      "metadata": {
        "id": "GDrzSLQ_Iv5u"
      }
    },
    {
      "cell_type": "code",
      "source": [
        "model = genai.GenerativeModel(model_name='gemini-1.0-pro',\n",
        "                                  generation_config=generation_config,\n",
        "                                  safety_settings=safety_settings,)"
      ],
      "metadata": {
        "id": "oqP436YQH6Nt"
      },
      "execution_count": 5,
      "outputs": []
    },
    {
      "cell_type": "markdown",
      "source": [
        "Criando lista com base nos inputs do usuário"
      ],
      "metadata": {
        "id": "VJb0Xp5PMNDA"
      }
    },
    {
      "cell_type": "code",
      "source": [
        "lista = []\n",
        "\n",
        "print(\"Forneça 5 sentenças em inglês que gostaria de analisar:\")\n",
        "\n",
        "for i in range(5):\n",
        "  valor = input(f\"{i+1}: \")\n",
        "  lista.append(valor)"
      ],
      "metadata": {
        "colab": {
          "base_uri": "https://localhost:8080/"
        },
        "id": "6WkM0hTzMxAY",
        "outputId": "e26b8a3d-24e0-425e-f76c-8748a240eaf9"
      },
      "execution_count": 109,
      "outputs": [
        {
          "name": "stdout",
          "output_type": "stream",
          "text": [
            "Forneça 5 sentenças em inglês que gostaria de analisar:\n",
            "1: I went at the park yesterday with my friends.\n",
            "2: She runned very fast to catch the bus.\n",
            "3: My head is feeling very bad today.\n",
            "4: I am agree with you.\n",
            "5: He put the flowers inside the vase.\n"
          ]
        }
      ]
    },
    {
      "cell_type": "markdown",
      "source": [
        "Formatando frases para incorporar a Prompt\n"
      ],
      "metadata": {
        "id": "1BBjZoI2Pw5L"
      }
    },
    {
      "cell_type": "code",
      "source": [
        "def formatar_lista(lista):\n",
        "  \"\"\"Formata uma lista de frases em um prompt enumerado.\n",
        "\n",
        "  Args:\n",
        "    lista: Uma lista de strings representando as frases.\n",
        "\n",
        "  Returns:\n",
        "    Uma string com as frases formatadas.\n",
        "  \"\"\"\n",
        "  prompt_criado = \"\"\n",
        "  for i, frase in enumerate(lista):\n",
        "    if i == len(lista) - 1:  # Verifica se é a última frase\n",
        "      prompt_criado += f\"Frase {i+1}: {frase}\"\n",
        "    else:\n",
        "      prompt_criado += f\"Frase {i+1}: {frase}\\n\"\n",
        "  return prompt_criado\n",
        "\n",
        "frases_formatadas = formatar_lista(lista)\n",
        "print(frases_formatadas)"
      ],
      "metadata": {
        "colab": {
          "base_uri": "https://localhost:8080/"
        },
        "id": "s0QNSlh9Tpkp",
        "outputId": "2da628ea-4d6c-4475-970e-a70712f8c23e"
      },
      "execution_count": 110,
      "outputs": [
        {
          "output_type": "stream",
          "name": "stdout",
          "text": [
            "Frase 1: I went at the park yesterday with my friends.\n",
            "Frase 2: She runned very fast to catch the bus.\n",
            "Frase 3: My head is feeling very bad today.\n",
            "Frase 4: I am agree with you.\n",
            "Frase 5: He put the flowers inside the vase.\n"
          ]
        }
      ]
    },
    {
      "cell_type": "markdown",
      "source": [
        "Criando prompt"
      ],
      "metadata": {
        "id": "BZ0eFkNdWga6"
      }
    },
    {
      "cell_type": "code",
      "source": [
        "prompt = f\"\"\"Aja como um professor de inglês que faz sua análise na língua portuguesa. Considere as frases abaixo para avaliação:\\n\n",
        "{frases_formatadas}\\n\n",
        "Destaque 3 principais erros ocorridos e agrupe-os. Para estes 3 erros crie 5 exercicios, agrupados por erro, de multiplica escolha com 4 alternativas cada para que exercitem o conhecimento necessário para corrigir os erros apontados. Forneça as respostas ao final de todo os 15 exercicios somente.\"\"\""
      ],
      "metadata": {
        "id": "BB2yf380ShwO"
      },
      "execution_count": 112,
      "outputs": []
    },
    {
      "cell_type": "markdown",
      "source": [
        "Gerando avaliação e exercicios com base em Frases e Prompt personalizado."
      ],
      "metadata": {
        "id": "VQJ_X7-OaKeC"
      }
    },
    {
      "cell_type": "code",
      "source": [
        "from IPython.display import Markdown, display\n",
        "\n",
        "# Gerando resposta através do prompt\n",
        "response = model.generate_content(prompt)\n",
        "\n",
        "# Convertendo o texto para Markdown\n",
        "markdown_output = f\"\"\"\n",
        "{response.text}\n",
        "\"\"\"\n",
        "\n",
        "# Exibindo o resultado formatado no Google Colab\n",
        "display(Markdown(markdown_output))"
      ],
      "metadata": {
        "colab": {
          "base_uri": "https://localhost:8080/",
          "height": 610
        },
        "id": "uKmQZ0GOYjtF",
        "outputId": "d7697351-e939-4d5c-82b0-b687a06a7eed"
      },
      "execution_count": 119,
      "outputs": [
        {
          "output_type": "display_data",
          "data": {
            "text/plain": [
              "<IPython.core.display.Markdown object>"
            ],
            "text/markdown": "\n**Erros Identificados:**\n\n1. **Concordância Verbal:**\n   - \"I went at the park\" (deveria ser \"I went to the park\")\n   - \"She runned very fast\" (deveria ser \"She ran very fast\")\n\n2. **Formação do Gerúndio:**\n   - \"My head is feeling very bad\" (deveria ser \"My head is feeling very badly\")\n\n3. **Concordância Sujeito-Verbo:**\n   - \"I am agree with you\" (deveria ser \"I agree with you\")\n\n**Exercícios:**\n\n**Concordância Verbal**\n\n1. Escolha a forma verbal correta para completar a frase: \"Yesterday, I ______ to the store.\"\n   (a) went\n   (b) go\n   (c) goes\n   (d) went to\n\n2. Escolha a forma verbal correta para completar a frase: \"The children ______ in the park.\"\n   (a) play\n   (b) plays\n   (c) played\n   (d) are playing\n\n**Formação do Gerúndio**\n\n3. Escolha a forma correta do gerúndio para completar a frase: \"I enjoy ______ music.\"\n   (a) listen\n   (b) listening\n   (c) to listen\n   (d) listens\n\n4. Escolha a forma correta do gerúndio para completar a frase: \"She is ______ a book.\"\n   (a) read\n   (b) reading\n   (c) to read\n   (d) reads\n\n**Concordância Sujeito-Verbo**\n\n5. Escolha a forma verbal correta para completar a frase: \"The team ______ very well.\"\n   (a) play\n   (b) plays\n   (c) are playing\n   (d) is playing\n\n**Respostas:**\n\n1. (d) went to\n2. (d) are playing\n3. (b) listening\n4. (b) reading\n5. (b) plays\n"
          },
          "metadata": {}
        }
      ]
    }
  ]
}