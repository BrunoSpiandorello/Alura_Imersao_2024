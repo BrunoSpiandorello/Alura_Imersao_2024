{
  "nbformat": 4,
  "nbformat_minor": 0,
  "metadata": {
    "colab": {
      "provenance": [],
      "authorship_tag": "ABX9TyO6aMhpG2w3jYYTUtGSrmqI",
      "include_colab_link": true
    },
    "kernelspec": {
      "name": "python3",
      "display_name": "Python 3"
    },
    "language_info": {
      "name": "python"
    }
  },
  "cells": [
    {
      "cell_type": "markdown",
      "metadata": {
        "id": "view-in-github",
        "colab_type": "text"
      },
      "source": [
        "<a href=\"https://colab.research.google.com/github/BrunoSpiandorello/Alura_Imersao_2024/blob/main/Apostila_Personalizada_de_Ingles.ipynb\" target=\"_parent\"><img src=\"https://colab.research.google.com/assets/colab-badge.svg\" alt=\"Open In Colab\"/></a>"
      ]
    },
    {
      "cell_type": "markdown",
      "source": [
        "Instalando SDK"
      ],
      "metadata": {
        "id": "dW0Hbn7VHIo5"
      }
    },
    {
      "cell_type": "code",
      "source": [
        "#Instalando o SDK do Google\n",
        "!pip install -q -U google-generativeai"
      ],
      "metadata": {
        "id": "XHM8zkYHDC2f"
      },
      "execution_count": 120,
      "outputs": []
    },
    {
      "cell_type": "markdown",
      "source": [
        "Adicionando API com máscara"
      ],
      "metadata": {
        "id": "NaL0Bm2mHMdI"
      }
    },
    {
      "cell_type": "code",
      "execution_count": 121,
      "metadata": {
        "id": "Mg-UYP56CQAi"
      },
      "outputs": [],
      "source": [
        "#Configurações iniciais\n",
        "import google.generativeai as genai\n",
        "import numpy as np\n",
        "import pandas as pd\n",
        "from google.colab import userdata\n",
        "GOOGLE_API_KEY=userdata.get('mascara_api')\n",
        "genai.configure(api_key=GOOGLE_API_KEY)"
      ]
    },
    {
      "cell_type": "markdown",
      "source": [
        "Definindo parâmetros para execução da AI"
      ],
      "metadata": {
        "id": "t-uF-bbIHmLf"
      }
    },
    {
      "cell_type": "code",
      "source": [
        "generation_config = {\n",
        "  \"candidate_count\": 1,\n",
        "  \"temperature\": 0.5,\n",
        "  \"top_p\": 1,\n",
        "  \"top_k\": 1\n",
        "}"
      ],
      "metadata": {
        "id": "njyysMsMHGka"
      },
      "execution_count": 122,
      "outputs": []
    },
    {
      "cell_type": "markdown",
      "source": [
        "Definindo parâmetros de segurança"
      ],
      "metadata": {
        "id": "Jm9WYgFaHlwN"
      }
    },
    {
      "cell_type": "code",
      "source": [
        "safety_settings={\n",
        "    'HATE': 'BLOCK_MEDIUM_AND_ABOVE',\n",
        "    'HARASSMENT': 'BLOCK_MEDIUM_AND_ABOVE',\n",
        "    'SEXUAL' : 'BLOCK_MEDIUM_AND_ABOVE',\n",
        "    'DANGEROUS' : 'BLOCK_MEDIUM_AND_ABOVE'\n",
        "    }"
      ],
      "metadata": {
        "id": "OJXbPQbqHgT1"
      },
      "execution_count": 123,
      "outputs": []
    },
    {
      "cell_type": "markdown",
      "source": [
        "Definindo versão e modelo a ser utilizado do Gemini AI e inserindo Parâmetros de Execução e de Segurança"
      ],
      "metadata": {
        "id": "GDrzSLQ_Iv5u"
      }
    },
    {
      "cell_type": "code",
      "source": [
        "model = genai.GenerativeModel(model_name='gemini-1.0-pro',\n",
        "                                  generation_config=generation_config,\n",
        "                                  safety_settings=safety_settings,)"
      ],
      "metadata": {
        "id": "oqP436YQH6Nt"
      },
      "execution_count": 124,
      "outputs": []
    },
    {
      "cell_type": "markdown",
      "source": [
        "Criando lista com base nos inputs do usuário"
      ],
      "metadata": {
        "id": "VJb0Xp5PMNDA"
      }
    },
    {
      "cell_type": "code",
      "source": [
        "lista = []\n",
        "\n",
        "print(\"Forneça 5 sentenças em inglês que gostaria de analisar:\")\n",
        "\n",
        "for i in range(5):\n",
        "  valor = input(f\"{i+1}: \")\n",
        "  lista.append(valor)"
      ],
      "metadata": {
        "colab": {
          "base_uri": "https://localhost:8080/"
        },
        "id": "6WkM0hTzMxAY",
        "outputId": "7f36a5ce-609d-4da3-b35f-1366e04934de"
      },
      "execution_count": 125,
      "outputs": [
        {
          "name": "stdout",
          "output_type": "stream",
          "text": [
            "Forneça 5 sentenças em inglês que gostaria de analisar:\n",
            "1: I had a great session with my friends to watch a speech about new technology is comming\n",
            "2: No one says Castellano Español and Castellano Mejicano\n",
            "3: More? Hahahahha I need to find something to payback, as of now I just told you how to say my name in portuguese ahhahahaha\n",
            "4: Yes, actually I already pre-book it a Hoste. but now that I have another recommendation from the GPT one, probably I'm gonna investigate further and see if it's there any cancel fee to be cheaper\n",
            "5: Hahahahha yeeah I do prefer to don't going to that world. Sometimes even instagram I got addicted, and is good to be away now and then\n"
          ]
        }
      ]
    },
    {
      "cell_type": "markdown",
      "source": [
        "Formatando frases para incorporar a Prompt\n"
      ],
      "metadata": {
        "id": "1BBjZoI2Pw5L"
      }
    },
    {
      "cell_type": "code",
      "source": [
        "def formatar_lista(lista):\n",
        "  \"\"\"Formata uma lista de frases em um prompt enumerado.\n",
        "\n",
        "  Args:\n",
        "    lista: Uma lista de strings representando as frases.\n",
        "\n",
        "  Returns:\n",
        "    Uma string com as frases formatadas.\n",
        "  \"\"\"\n",
        "  prompt_criado = \"\"\n",
        "  for i, frase in enumerate(lista):\n",
        "    if i == len(lista) - 1:  # Verifica se é a última frase\n",
        "      prompt_criado += f\"Frase {i+1}: {frase}\"\n",
        "    else:\n",
        "      prompt_criado += f\"Frase {i+1}: {frase}\\n\"\n",
        "  return prompt_criado\n",
        "\n",
        "frases_formatadas = formatar_lista(lista)"
      ],
      "metadata": {
        "id": "s0QNSlh9Tpkp"
      },
      "execution_count": 129,
      "outputs": []
    },
    {
      "cell_type": "markdown",
      "source": [
        "Criando prompt"
      ],
      "metadata": {
        "id": "BZ0eFkNdWga6"
      }
    },
    {
      "cell_type": "code",
      "source": [
        "prompt = f\"\"\"Aja como um professor de inglês que faz sua análise na língua portuguesa. Considere as frases abaixo para avaliação:\\n\n",
        "{frases_formatadas}\\n\n",
        "Destaque 3 principais erros ocorridos e agrupe-os e dê uma breve explicação citando exemplos das frases que cometeu estes erros e os porquês. Para estes 3 erros crie 5 exercicios, agrupados por erro, de multiplica escolha com 4 alternativas cada para que exercitem o conhecimento necessário para corrigir os erros apontados. Forneça as respostas ao final de todo os 15 exercicios somente.\"\"\""
      ],
      "metadata": {
        "id": "BB2yf380ShwO"
      },
      "execution_count": 130,
      "outputs": []
    },
    {
      "cell_type": "markdown",
      "source": [
        "Gerando avaliação e exercicios com base em Frases e Prompt personalizado."
      ],
      "metadata": {
        "id": "VQJ_X7-OaKeC"
      }
    },
    {
      "cell_type": "code",
      "source": [
        "from IPython.display import Markdown, display\n",
        "\n",
        "# Gerando resposta através do prompt\n",
        "response = model.generate_content(prompt)\n",
        "\n",
        "# Convertendo o texto para Markdown\n",
        "markdown_output = f\"\"\"\n",
        "{response.text}\n",
        "\"\"\"\n",
        "\n",
        "# Exibindo o resultado formatado no Google Colab\n",
        "display(Markdown(markdown_output))"
      ],
      "metadata": {
        "colab": {
          "base_uri": "https://localhost:8080/",
          "height": 1000
        },
        "id": "uKmQZ0GOYjtF",
        "outputId": "f22c72e9-1fc6-4b67-a856-555c962b87e3"
      },
      "execution_count": 131,
      "outputs": [
        {
          "output_type": "display_data",
          "data": {
            "text/plain": [
              "<IPython.core.display.Markdown object>"
            ],
            "text/markdown": "\n**Principais Erros Ocorridos**\n\n**1. Concordância Verbal**\n* Erro: Uso incorreto do tempo verbal (presente contínuo) para se referir a uma ação passada.\n* Exemplo: \"new technology is comming\" (deveria ser \"new technology is coming\")\n\n**2. Uso de Preposições**\n* Erro: Uso incorreto da preposição \"to\" antes de um substantivo.\n* Exemplo: \"to watch a speech\" (deveria ser \"watch a speech\")\n\n**3. Pontuação**\n* Erro: Uso incorreto de vírgulas e pontos finais.\n* Exemplo: \"More? Hahahahha I need to find something to payback, as of now I just told you how to say my name in portuguese ahhahahaha\" (deveria ser \"More? Hahahaha. I need to find something to payback. As of now, I just told you how to say my name in Portuguese. Hahahaha.\")\n\n**Exercícios**\n\n**Concordância Verbal**\n\n1. Escolha a alternativa que completa corretamente a frase: \"I ______ a great time at the party.\"\n(a) have\n(b) had\n(c) am having\n(d) will have\n\n2. Escolha a alternativa que completa corretamente a frase: \"The students ______ their homework.\"\n(a) are doing\n(b) do\n(c) did\n(d) will do\n\n3. Escolha a alternativa que completa corretamente a frase: \"We ______ to the beach tomorrow.\"\n(a) are going\n(b) go\n(c) went\n(d) will go\n\n**Uso de Preposições**\n\n4. Escolha a alternativa que completa corretamente a frase: \"I went ______ the store.\"\n(a) at\n(b) to\n(c) on\n(d) in\n\n5. Escolha a alternativa que completa corretamente a frase: \"I am allergic ______ cats.\"\n(a) to\n(b) for\n(c) of\n(d) on\n\n**Pontuação**\n\n6. Escolha a alternativa que pontua corretamente a frase: \"The weather is nice today\"\n(a) The weather is nice today.\n(b) The weather is nice, today.\n(c) The weather, is nice today.\n(d) The weather is nice today?\n\n7. Escolha a alternativa que pontua corretamente a frase: \"I went to the store and bought milk eggs and bread\"\n(a) I went to the store and bought milk, eggs, and bread.\n(b) I went to the store and bought milk eggs and bread.\n(c) I went to the store and bought milk, eggs and bread.\n(d) I went to the store and bought milk eggs, and bread.\n\n8. Escolha a alternativa que pontua corretamente a frase: \"The movie was good but it was too long\"\n(a) The movie was good, but it was too long.\n(b) The movie was good but it was too long.\n(c) The movie was good; but it was too long.\n(d) The movie was good. But it was too long.\n\n9. Escolha a alternativa que pontua corretamente a frase: \"I am going to the store do you want to come\"\n(a) I am going to the store. Do you want to come?\n(b) I am going to the store, do you want to come?\n(c) I am going to the store do you want to come?\n(d) I am going to the store? Do you want to come?\n\n10. Escolha a alternativa que pontua corretamente a frase: \"The weather is nice today I am going to the park\"\n(a) The weather is nice today. I am going to the park.\n(b) The weather is nice today, I am going to the park.\n(c) The weather is nice today: I am going to the park.\n(d) The weather is nice today. I am going to the park?\n\n**Respostas**\n\n**Concordância Verbal**\n1. (b)\n2. (b)\n3. (a)\n\n**Uso de Preposições**\n4. (b)\n5. (a)\n\n**Pontuação**\n6. (a)\n7. (a)\n8. (a)\n9. (a)\n10. (a)\n"
          },
          "metadata": {}
        }
      ]
    }
  ]
}